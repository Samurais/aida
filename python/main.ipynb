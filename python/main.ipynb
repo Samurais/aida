{
 "cells": [
  {
   "cell_type": "code",
   "execution_count": null,
   "metadata": {},
   "outputs": [
    {
     "name": "stderr",
     "output_type": "stream",
     "text": [
      "/usr/local/lib/python3.6/site-packages/h5py/__init__.py:36: FutureWarning: Conversion of the second argument of issubdtype from `float` to `np.floating` is deprecated. In future, it will be treated as `np.float64 == np.dtype(float).type`.\n",
      "  from ._conv import register_converters as _register_converters\n",
      "Using TensorFlow backend.\n"
     ]
    },
    {
     "name": "stdout",
     "output_type": "stream",
     "text": [
      "2.1.6\n",
      "1 (None, 22, 44)\n",
      "2 <keras.layers.core.Dense object at 0x11eb91940>\n",
      "> /Users/rodrigo/AI/aida/python/src/pipelines/zebra_wings/attention.py(29)build()\n",
      "-> self.attention.add(d)\n"
     ]
    },
    {
     "name": "stdin",
     "output_type": "stream",
     "text": [
      "(Pdb)  p d\n"
     ]
    },
    {
     "name": "stdout",
     "output_type": "stream",
     "text": [
      "<keras.layers.core.Dense object at 0x11eb91940>\n"
     ]
    },
    {
     "name": "stdin",
     "output_type": "stream",
     "text": [
      "(Pdb)  p d.shape\n"
     ]
    },
    {
     "name": "stdout",
     "output_type": "stream",
     "text": [
      "*** AttributeError: 'Dense' object has no attribute 'shape'\n"
     ]
    },
    {
     "name": "stdin",
     "output_type": "stream",
     "text": [
      "(Pdb)  p d.output\n"
     ]
    },
    {
     "name": "stdout",
     "output_type": "stream",
     "text": [
      "*** AttributeError: Layer dense_2 has no inbound nodes.\n"
     ]
    },
    {
     "name": "stdin",
     "output_type": "stream",
     "text": [
      "(Pdb)  n\n"
     ]
    },
    {
     "name": "stdout",
     "output_type": "stream",
     "text": [
      "> /Users/rodrigo/AI/aida/python/src/pipelines/zebra_wings/attention.py(30)build()\n",
      "-> self.attention.add(keras.layers.Activation('softmax'))\n"
     ]
    },
    {
     "name": "stdin",
     "output_type": "stream",
     "text": [
      "(Pdb)  p d\n"
     ]
    },
    {
     "name": "stdout",
     "output_type": "stream",
     "text": [
      "<keras.layers.core.Dense object at 0x11eb91940>\n"
     ]
    },
    {
     "name": "stdin",
     "output_type": "stream",
     "text": [
      "(Pdb)  p d.shape\n"
     ]
    },
    {
     "name": "stdout",
     "output_type": "stream",
     "text": [
      "*** AttributeError: 'Dense' object has no attribute 'shape'\n"
     ]
    },
    {
     "name": "stdin",
     "output_type": "stream",
     "text": [
      "(Pdb)  self.attention.shape\n"
     ]
    },
    {
     "name": "stdout",
     "output_type": "stream",
     "text": [
      "*** AttributeError: 'Sequential' object has no attribute 'shape'\n"
     ]
    }
   ],
   "source": [
    "import keras\n",
    "import numpy as np\n",
    "import json\n",
    "import src.utils.dictionary_utils as du\n",
    "import src.pipelines.zebra_wings.pipeline as pp\n",
    "import src.pipelines.zebra_wings.embeddings.embeddings_model as em\n",
    "\n",
    "print(keras.__version__)\n",
    "\n",
    "pretrained_ngram_vectors = json.load(open('../typescript/public/models/dictionary.json'))\n",
    "ngram_to_id_dictionary = json.load(open('../typescript/public/models/ngram_to_id_dictionary.json'))\n",
    "dataset_params = json.load(open('../typescript/public/models/dataset_params.json'))\n",
    "dataset_training = json.load(open('../typescript/public/models/dataset_training.json'))\n",
    "dataset_testing = json.load(open('../typescript/public/models/dataset_testing.json'))\n",
    "\n",
    "embedding_dictionary_json = None\n",
    "pipeline = pp.AidaPipeline(dataset_params, print, ngram_to_id_dictionary, None, None, None, pretrained_ngram_vectors)\n",
    "pipeline.train(dataset_training)\n",
    "stats = pipeline.test(dataset_testing)\n",
    "print(stats)\n",
    "pipeline.save({\n",
    "    'classificationPath': './output/trained_classifier.h5',\n",
    "    'nerPath': './output/trained_ner.h5',\n",
    "    'embeddingPath': './output/embedding.h5'\n",
    "})\n",
    "print('Finished training and testing. Models saved at \"./output\" folder.')"
   ]
  },
  {
   "cell_type": "code",
   "execution_count": 2,
   "metadata": {},
   "outputs": [],
   "source": [
    "from keras.utils import plot_model\n",
    "import plt\n",
    "models = pipeline.models()\n",
    "# save model graphs as png files\n",
    "plot_model(models['classification'].keras_model(), to_file='classification.png')\n",
    "plot_model(models['ner'].keras_model(), to_file='ner.png')\n",
    "plot_model(models['embedding'].keras_model(), to_file='embedding.png')"
   ]
  },
  {
   "cell_type": "code",
   "execution_count": null,
   "metadata": {},
   "outputs": [],
   "source": []
  }
 ],
 "metadata": {
  "kernelspec": {
   "display_name": "Python 3",
   "language": "python",
   "name": "python3"
  },
  "language_info": {
   "codemirror_mode": {
    "name": "ipython",
    "version": 3
   },
   "file_extension": ".py",
   "mimetype": "text/x-python",
   "name": "python",
   "nbconvert_exporter": "python",
   "pygments_lexer": "ipython3",
   "version": "3.6.5"
  }
 },
 "nbformat": 4,
 "nbformat_minor": 2
}
